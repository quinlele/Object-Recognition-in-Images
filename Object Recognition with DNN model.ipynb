{
  "nbformat": 4,
  "nbformat_minor": 0,
  "metadata": {
    "colab": {
      "name": "Object Recognition with DNN model.ipynb",
      "provenance": []
    },
    "kernelspec": {
      "name": "python3",
      "display_name": "Python 3"
    }
  },
  "cells": [
    {
      "cell_type": "code",
      "metadata": {
        "id": "TSNLQOoLZbuq",
        "outputId": "4cee5221-4c6b-4d31-f90e-c87f47c1e6cd",
        "colab": {
          "base_uri": "https://localhost:8080/",
          "height": 34
        }
      },
      "source": [
        "import tensorflow as tf\n",
        "import numpy as np\n",
        "from matplotlib import pyplot as plt\n",
        "print(tf.__version__)"
      ],
      "execution_count": 2,
      "outputs": [
        {
          "output_type": "stream",
          "text": [
            "2.3.0\n"
          ],
          "name": "stdout"
        }
      ]
    },
    {
      "cell_type": "code",
      "metadata": {
        "id": "x1x_WP4aZzew",
        "outputId": "1bb29b1f-34c3-44ae-82a0-4dd175584551",
        "colab": {
          "base_uri": "https://localhost:8080/",
          "height": 706
        }
      },
      "source": [
        "(x_train, y_train), (x_test, y_test) = tf.keras.datasets.cifar10.load_data()\n",
        "print('train:', x_train.shape, y_train.shape)\n",
        "print('test:', x_test.shape, y_test.shape)\n",
        "print('y train:', y_train[:10])\n",
        "print('y test:', y_test[:10])\n",
        "\n",
        "plt.imshow(x_train[0, :, :])"
      ],
      "execution_count": 3,
      "outputs": [
        {
          "output_type": "stream",
          "text": [
            "Downloading data from https://www.cs.toronto.edu/~kriz/cifar-10-python.tar.gz\n",
            "170500096/170498071 [==============================] - 2s 0us/step\n",
            "train: (50000, 32, 32, 3) (50000, 1)\n",
            "test: (10000, 32, 32, 3) (10000, 1)\n",
            "y train: [[6]\n",
            " [9]\n",
            " [9]\n",
            " [4]\n",
            " [1]\n",
            " [1]\n",
            " [2]\n",
            " [7]\n",
            " [8]\n",
            " [3]]\n",
            "y test: [[3]\n",
            " [8]\n",
            " [8]\n",
            " [0]\n",
            " [6]\n",
            " [6]\n",
            " [1]\n",
            " [6]\n",
            " [3]\n",
            " [1]]\n"
          ],
          "name": "stdout"
        },
        {
          "output_type": "execute_result",
          "data": {
            "text/plain": [
              "<matplotlib.image.AxesImage at 0x7f5ce7fedd30>"
            ]
          },
          "metadata": {
            "tags": []
          },
          "execution_count": 3
        },
        {
          "output_type": "display_data",
          "data": {
            "image/png": "[encoded data removed]",
            "text/plain": [
              "<Figure size 432x288 with 1 Axes>"
            ]
          },
          "metadata": {
            "tags": [],
            "needs_background": "light"
          }
        }
      ]
    },
    {
      "cell_type": "code",
      "metadata": {
        "id": "yDuyKSKMaAzb",
        "outputId": "35cfbcae-94a4-47ac-a84b-8e5dd7ed66bf",
        "colab": {
          "base_uri": "https://localhost:8080/",
          "height": 193
        }
      },
      "source": [
        "def list_to_onehot(x, num_class=10):\n",
        "  onehot = np.zeros([x.shape[0], num_class], dtype=np.float64)\n",
        "  onehot[np.arange(x.shape[0]), x[:, 0].astype(int)] = 1.0\n",
        "  return onehot\n",
        "\n",
        "def split_train_val(x, y, rate_train=0.7):\n",
        "  indices = np.arange(x.shape[0])\n",
        "  np.random.shuffle(indices)\n",
        "  i = int(x.shape[0]*rate_train)\n",
        "  return (x[indices[:i]], y[indices[:i]]), (x[indices[i:]], y[indices[i:]])\n",
        "\n",
        "preprocess_samples = lambda x : x / 255.\n",
        "\n",
        "(x_train, y_train), (x_val, y_val) = split_train_val(x_train, y_train)\n",
        "x_train = preprocess_samples(x_train)\n",
        "x_val = preprocess_samples(x_val)\n",
        "x_test = preprocess_samples(x_test)\n",
        "\n",
        "y_train = list_to_onehot(y_train)\n",
        "y_val = list_to_onehot(y_val)\n",
        "y_test = list_to_onehot(y_test)\n",
        "for it in y_train[:10]:\n",
        "  print(it)"
      ],
      "execution_count": 11,
      "outputs": [
        {
          "output_type": "stream",
          "text": [
            "[1. 0. 0. 0. 0. 0. 0. 0. 0. 0.]\n",
            "[1. 0. 0. 0. 0. 0. 0. 0. 0. 0.]\n",
            "[0. 1. 0. 0. 0. 0. 0. 0. 0. 0.]\n",
            "[1. 0. 0. 0. 0. 0. 0. 0. 0. 0.]\n",
            "[0. 1. 0. 0. 0. 0. 0. 0. 0. 0.]\n",
            "[1. 0. 0. 0. 0. 0. 0. 0. 0. 0.]\n",
            "[0. 1. 0. 0. 0. 0. 0. 0. 0. 0.]\n",
            "[1. 0. 0. 0. 0. 0. 0. 0. 0. 0.]\n",
            "[1. 0. 0. 0. 0. 0. 0. 0. 0. 0.]\n",
            "[1. 0. 0. 0. 0. 0. 0. 0. 0. 0.]\n"
          ],
          "name": "stdout"
        }
      ]
    },
    {
      "cell_type": "code",
      "metadata": {
        "id": "gtBpTF51cinb",
        "outputId": "0aecb6e5-108c-4a64-bdff-d19e3c055167",
        "colab": {
          "base_uri": "https://localhost:8080/",
          "height": 334
        }
      },
      "source": [
        "model = tf.keras.models.Sequential(name='simple_dnn')\n",
        "model.add(tf.keras.layers.Flatten(input_shape=(32, 32, 3)))\n",
        "model.add(tf.keras.layers.Dense(256, activation='sigmoid'))\n",
        "model.add(tf.keras.layers.Dropout(0.5))\n",
        "model.add(tf.keras.layers.Dense(10, activation='sigmoid'))\n",
        "model.add(tf.keras.layers.Softmax())\n",
        "model.summary()\n",
        "\n",
        "model.compile(loss=tf.keras.losses.CategoricalCrossentropy(),\n",
        "              optimizer=tf.keras.optimizers.Adam(),\n",
        "              metrics=['accuracy'])"
      ],
      "execution_count": 12,
      "outputs": [
        {
          "output_type": "stream",
          "text": [
            "Model: \"simple_dnn\"\n",
            "_________________________________________________________________\n",
            "Layer (type)                 Output Shape              Param #   \n",
            "=================================================================\n",
            "flatten_1 (Flatten)          (None, 3072)              0         \n",
            "_________________________________________________________________\n",
            "dense_2 (Dense)              (None, 256)               786688    \n",
            "_________________________________________________________________\n",
            "dropout_1 (Dropout)          (None, 256)               0         \n",
            "_________________________________________________________________\n",
            "dense_3 (Dense)              (None, 10)                2570      \n",
            "_________________________________________________________________\n",
            "softmax_1 (Softmax)          (None, 10)                0         \n",
            "=================================================================\n",
            "Total params: 789,258\n",
            "Trainable params: 789,258\n",
            "Non-trainable params: 0\n",
            "_________________________________________________________________\n"
          ],
          "name": "stdout"
        }
      ]
    },
    {
      "cell_type": "code",
      "metadata": {
        "id": "FE4q1q7BcqXM",
        "outputId": "c559c465-79cc-45b8-9676-514d68cc22ab",
        "colab": {
          "base_uri": "https://localhost:8080/",
          "height": 318
        }
      },
      "source": [
        "history = model.fit(x_train,\n",
        "          y_train,\n",
        "          batch_size=128,\n",
        "          epochs=8,\n",
        "          verbose=1,\n",
        "          validation_data=(x_val, y_val))"
      ],
      "execution_count": 13,
      "outputs": [
        {
          "output_type": "stream",
          "text": [
            "Epoch 1/8\n",
            "192/192 [==============================] - 3s 16ms/step - loss: 1.6074 - accuracy: 0.8803 - val_loss: 1.5583 - val_accuracy: 0.9031\n",
            "Epoch 2/8\n",
            "192/192 [==============================] - 4s 21ms/step - loss: 1.5605 - accuracy: 0.8994 - val_loss: 1.5544 - val_accuracy: 0.9031\n",
            "Epoch 3/8\n",
            "192/192 [==============================] - 4s 23ms/step - loss: 1.5569 - accuracy: 0.8994 - val_loss: 1.5510 - val_accuracy: 0.9031\n",
            "Epoch 4/8\n",
            "192/192 [==============================] - 3s 14ms/step - loss: 1.5523 - accuracy: 0.8994 - val_loss: 1.5469 - val_accuracy: 0.9031\n",
            "Epoch 5/8\n",
            "192/192 [==============================] - 3s 14ms/step - loss: 1.5485 - accuracy: 0.8994 - val_loss: 1.5438 - val_accuracy: 0.9031\n",
            "Epoch 6/8\n",
            "192/192 [==============================] - 3s 14ms/step - loss: 1.5458 - accuracy: 0.8994 - val_loss: 1.5404 - val_accuracy: 0.9031\n",
            "Epoch 7/8\n",
            "192/192 [==============================] - 3s 14ms/step - loss: 1.5436 - accuracy: 0.8994 - val_loss: 1.5388 - val_accuracy: 0.9031\n",
            "Epoch 8/8\n",
            "192/192 [==============================] - 3s 14ms/step - loss: 1.5414 - accuracy: 0.8994 - val_loss: 1.5369 - val_accuracy: 0.9031\n"
          ],
          "name": "stdout"
        }
      ]
    },
    {
      "cell_type": "code",
      "metadata": {
        "id": "sKDvg_t5c1kl",
        "outputId": "f5181fd1-cf07-4cc2-dad7-e545dbf62ba1",
        "colab": {
          "base_uri": "https://localhost:8080/",
          "height": 295
        }
      },
      "source": [
        "plt.plot(history.history['accuracy'])\n",
        "plt.plot(history.history['val_accuracy'])\n",
        "plt.title('model accuracy')\n",
        "plt.ylabel('accuracy')\n",
        "plt.xlabel('epoch')\n",
        "plt.legend(['train', 'validation'])\n",
        "plt.show()"
      ],
      "execution_count": 14,
      "outputs": [
        {
          "output_type": "display_data",
          "data": {
            "image/png": "[encoded data removed]",
            "text/plain": [
              "<Figure size 432x288 with 1 Axes>"
            ]
          },
          "metadata": {
            "tags": [],
            "needs_background": "light"
          }
        }
      ]
    },
    {
      "cell_type": "code",
      "metadata": {
        "id": "n6pWLLSfc7l4",
        "outputId": "30ba368b-e24e-48b2-cab4-2598970c2566",
        "colab": {
          "base_uri": "https://localhost:8080/",
          "height": 295
        }
      },
      "source": [
        "plt.plot(history.history['loss'])\n",
        "plt.plot(history.history['val_loss'])\n",
        "plt.title('model loss')\n",
        "plt.ylabel('loss')\n",
        "plt.xlabel('epoch')\n",
        "plt.legend(['train', 'validation'])\n",
        "plt.show()"
      ],
      "execution_count": 15,
      "outputs": [
        {
          "output_type": "display_data",
          "data": {
            "image/png": "[encoded data removed]",
            "text/plain": [
              "<Figure size 432x288 with 1 Axes>"
            ]
          },
          "metadata": {
            "tags": [],
            "needs_background": "light"
          }
        }
      ]
    },
    {
      "cell_type": "code",
      "metadata": {
        "id": "3f6LPKL8dCZD",
        "outputId": "90c14544-36ea-4861-a9c4-ca65040d5cc3",
        "colab": {
          "base_uri": "https://localhost:8080/",
          "height": 34
        }
      },
      "source": [
        "results = model.evaluate(x_test, y_test)"
      ],
      "execution_count": 17,
      "outputs": [
        {
          "output_type": "stream",
          "text": [
            "313/313 [==============================] - 1s 2ms/step - loss: 1.5361 - accuracy: 0.9000\n"
          ],
          "name": "stdout"
        }
      ]
    }
  ]
}